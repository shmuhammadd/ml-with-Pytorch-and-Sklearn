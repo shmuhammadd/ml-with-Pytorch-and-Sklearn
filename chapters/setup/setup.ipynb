{
 "cells": [
  {
   "cell_type": "markdown",
   "metadata": {},
   "source": [
    "# Setup and Installation\n"
   ]
  },
  {
   "cell_type": "markdown",
   "metadata": {},
   "source": [
    "## Setup and Installation\n",
    "\n",
    "- Install Anaconda or Miniconda\n",
    "\n",
    "- Create Environment\n",
    "\n",
    "- Install tldr\n",
    "    "
   ]
  },
  {
   "cell_type": "markdown",
   "metadata": {},
   "source": [
    "## Working with Jupyter Notebooks in VSCode\n",
    "\n",
    "\n",
    "- Create, open, and save Jupyter Notebooks\n",
    "\n",
    "- Work with Jupyter code cells\n",
    "\n",
    "- View, inspect, and filter variables using the Variable Explorer and Data Viewer\n",
    "\n",
    "- Connect to a remote Jupyter server\n",
    "\n",
    "- Debug a Jupyter Notebook\n",
    "\n",
    "\n"
   ]
  },
  {
   "cell_type": "markdown",
   "metadata": {},
   "source": [
    "### Creating Jupter Notebooks\n",
    "\n",
    "- Download the VSCode \n",
    "\n",
    "- Python extension for VS Code and Jupyter extension for VS Code from the Visual Studio \n",
    "\n",
    "- Miniconda with Python 3.9 (If you already have Anaconda, you are ok) \n",
    "\n",
    "- Follow the instructions [here](https://code.visualstudio.com/docs/datascience/jupyter-notebooks)\n"
   ]
  },
  {
   "cell_type": "markdown",
   "metadata": {},
   "source": [
    "## Set up a data science environment\n"
   ]
  },
  {
   "cell_type": "markdown",
   "metadata": {},
   "source": [
    "- Create a conda environment with the following packages: "
   ]
  },
  {
   "cell_type": "code",
   "execution_count": null,
   "metadata": {
    "vscode": {
     "languageId": "shellscript"
    }
   },
   "outputs": [],
   "source": [
    "- conda create -n myenv python=3.9 pandas jupyter seaborn scikit-learn matplotlib ipython "
   ]
  },
  {
   "cell_type": "markdown",
   "metadata": {},
   "source": [
    "- Create a folder in a convenient location to serve as your VS Code workspace for the tutorial, name it hello_ds\n",
    "\n",
    "- Open the folder in Vscode\n",
    "\n",
    "- Once VS Code launches, create the Jupyter notebook by (⇧⌘P) and select Jupyter: Create New Jupyter Notebook.\n",
    "\n",
    "- Save the file as hello.ipynb\n",
    "\n",
    "- After your file is created, you should see the open Jupyter notebook in the notebook editor. \n",
    "\n",
    "- Next select Select Kernel at the top right of the notebook \n",
    "\n",
    "- Choose the Python environment you created above in which to run your kernel \n"
   ]
  },
  {
   "cell_type": "code",
   "execution_count": 7,
   "metadata": {
    "vscode": {
     "languageId": "shellscript"
    }
   },
   "outputs": [
    {
     "data": {
      "text/html": [
       "<div>\n",
       "<style scoped>\n",
       "    .dataframe tbody tr th:only-of-type {\n",
       "        vertical-align: middle;\n",
       "    }\n",
       "\n",
       "    .dataframe tbody tr th {\n",
       "        vertical-align: top;\n",
       "    }\n",
       "\n",
       "    .dataframe thead th {\n",
       "        text-align: right;\n",
       "    }\n",
       "</style>\n",
       "<table border=\"1\" class=\"dataframe\">\n",
       "  <thead>\n",
       "    <tr style=\"text-align: right;\">\n",
       "      <th></th>\n",
       "      <th>id</th>\n",
       "      <th>'pclass'</th>\n",
       "      <th>'survived'</th>\n",
       "      <th>'name'</th>\n",
       "      <th>'sex'</th>\n",
       "      <th>'age'</th>\n",
       "      <th>'sibsp'</th>\n",
       "      <th>'parch'</th>\n",
       "      <th>'ticket'</th>\n",
       "      <th>'fare'</th>\n",
       "      <th>'cabin'</th>\n",
       "      <th>'embarked'</th>\n",
       "      <th>'boat'</th>\n",
       "      <th>'body'</th>\n",
       "      <th>'home.dest'</th>\n",
       "    </tr>\n",
       "  </thead>\n",
       "  <tbody>\n",
       "    <tr>\n",
       "      <th>0</th>\n",
       "      <td>1</td>\n",
       "      <td>1</td>\n",
       "      <td>1</td>\n",
       "      <td>Allen,Miss. Elisabeth Walton</td>\n",
       "      <td>female</td>\n",
       "      <td>29</td>\n",
       "      <td>0</td>\n",
       "      <td>0</td>\n",
       "      <td>24160</td>\n",
       "      <td>211.3375</td>\n",
       "      <td>B5</td>\n",
       "      <td>S</td>\n",
       "      <td>2</td>\n",
       "      <td>?</td>\n",
       "      <td>St Louis,MO</td>\n",
       "    </tr>\n",
       "    <tr>\n",
       "      <th>1</th>\n",
       "      <td>2</td>\n",
       "      <td>1</td>\n",
       "      <td>1</td>\n",
       "      <td>Allison,Master. Hudson Trevor</td>\n",
       "      <td>male</td>\n",
       "      <td>0.9167</td>\n",
       "      <td>1</td>\n",
       "      <td>2</td>\n",
       "      <td>113781</td>\n",
       "      <td>151.55</td>\n",
       "      <td>C22 C26</td>\n",
       "      <td>S</td>\n",
       "      <td>11</td>\n",
       "      <td>?</td>\n",
       "      <td>Montreal,PQ / Chesterville,ON</td>\n",
       "    </tr>\n",
       "    <tr>\n",
       "      <th>2</th>\n",
       "      <td>3</td>\n",
       "      <td>1</td>\n",
       "      <td>0</td>\n",
       "      <td>Allison,Miss. Helen Loraine</td>\n",
       "      <td>female</td>\n",
       "      <td>2</td>\n",
       "      <td>1</td>\n",
       "      <td>2</td>\n",
       "      <td>113781</td>\n",
       "      <td>151.55</td>\n",
       "      <td>C22 C26</td>\n",
       "      <td>S</td>\n",
       "      <td>?</td>\n",
       "      <td>?</td>\n",
       "      <td>Montreal,PQ / Chesterville,ON</td>\n",
       "    </tr>\n",
       "    <tr>\n",
       "      <th>3</th>\n",
       "      <td>4</td>\n",
       "      <td>1</td>\n",
       "      <td>0</td>\n",
       "      <td>Allison,Mr. Hudson Joshua Creighton</td>\n",
       "      <td>male</td>\n",
       "      <td>30</td>\n",
       "      <td>1</td>\n",
       "      <td>2</td>\n",
       "      <td>113781</td>\n",
       "      <td>151.55</td>\n",
       "      <td>C22 C26</td>\n",
       "      <td>S</td>\n",
       "      <td>?</td>\n",
       "      <td>135</td>\n",
       "      <td>Montreal,PQ / Chesterville,ON</td>\n",
       "    </tr>\n",
       "    <tr>\n",
       "      <th>4</th>\n",
       "      <td>5</td>\n",
       "      <td>1</td>\n",
       "      <td>0</td>\n",
       "      <td>Allison,Mrs. Hudson J C (Bessie Waldo Daniels)</td>\n",
       "      <td>female</td>\n",
       "      <td>25</td>\n",
       "      <td>1</td>\n",
       "      <td>2</td>\n",
       "      <td>113781</td>\n",
       "      <td>151.55</td>\n",
       "      <td>C22 C26</td>\n",
       "      <td>S</td>\n",
       "      <td>?</td>\n",
       "      <td>?</td>\n",
       "      <td>Montreal,PQ / Chesterville,ON</td>\n",
       "    </tr>\n",
       "    <tr>\n",
       "      <th>...</th>\n",
       "      <td>...</td>\n",
       "      <td>...</td>\n",
       "      <td>...</td>\n",
       "      <td>...</td>\n",
       "      <td>...</td>\n",
       "      <td>...</td>\n",
       "      <td>...</td>\n",
       "      <td>...</td>\n",
       "      <td>...</td>\n",
       "      <td>...</td>\n",
       "      <td>...</td>\n",
       "      <td>...</td>\n",
       "      <td>...</td>\n",
       "      <td>...</td>\n",
       "      <td>...</td>\n",
       "    </tr>\n",
       "    <tr>\n",
       "      <th>1304</th>\n",
       "      <td>1305</td>\n",
       "      <td>3</td>\n",
       "      <td>0</td>\n",
       "      <td>Zabour,Miss. Hileni</td>\n",
       "      <td>female</td>\n",
       "      <td>14.5</td>\n",
       "      <td>1</td>\n",
       "      <td>0</td>\n",
       "      <td>2665</td>\n",
       "      <td>14.4542</td>\n",
       "      <td>?</td>\n",
       "      <td>C</td>\n",
       "      <td>?</td>\n",
       "      <td>328</td>\n",
       "      <td>?</td>\n",
       "    </tr>\n",
       "    <tr>\n",
       "      <th>1305</th>\n",
       "      <td>1306</td>\n",
       "      <td>3</td>\n",
       "      <td>0</td>\n",
       "      <td>Zabour,Miss. Thamine</td>\n",
       "      <td>female</td>\n",
       "      <td>?</td>\n",
       "      <td>1</td>\n",
       "      <td>0</td>\n",
       "      <td>2665</td>\n",
       "      <td>14.4542</td>\n",
       "      <td>?</td>\n",
       "      <td>C</td>\n",
       "      <td>?</td>\n",
       "      <td>?</td>\n",
       "      <td>?</td>\n",
       "    </tr>\n",
       "    <tr>\n",
       "      <th>1306</th>\n",
       "      <td>1307</td>\n",
       "      <td>3</td>\n",
       "      <td>0</td>\n",
       "      <td>Zakarian,Mr. Mapriededer</td>\n",
       "      <td>male</td>\n",
       "      <td>26.5</td>\n",
       "      <td>0</td>\n",
       "      <td>0</td>\n",
       "      <td>2656</td>\n",
       "      <td>7.225</td>\n",
       "      <td>?</td>\n",
       "      <td>C</td>\n",
       "      <td>?</td>\n",
       "      <td>304</td>\n",
       "      <td>?</td>\n",
       "    </tr>\n",
       "    <tr>\n",
       "      <th>1307</th>\n",
       "      <td>1308</td>\n",
       "      <td>3</td>\n",
       "      <td>0</td>\n",
       "      <td>Zakarian,Mr. Ortin</td>\n",
       "      <td>male</td>\n",
       "      <td>27</td>\n",
       "      <td>0</td>\n",
       "      <td>0</td>\n",
       "      <td>2670</td>\n",
       "      <td>7.225</td>\n",
       "      <td>?</td>\n",
       "      <td>C</td>\n",
       "      <td>?</td>\n",
       "      <td>?</td>\n",
       "      <td>?</td>\n",
       "    </tr>\n",
       "    <tr>\n",
       "      <th>1308</th>\n",
       "      <td>1309</td>\n",
       "      <td>3</td>\n",
       "      <td>0</td>\n",
       "      <td>Zimmerman,Mr. Leo</td>\n",
       "      <td>male</td>\n",
       "      <td>29</td>\n",
       "      <td>0</td>\n",
       "      <td>0</td>\n",
       "      <td>315082</td>\n",
       "      <td>7.875</td>\n",
       "      <td>?</td>\n",
       "      <td>S</td>\n",
       "      <td>?</td>\n",
       "      <td>?</td>\n",
       "      <td>?</td>\n",
       "    </tr>\n",
       "  </tbody>\n",
       "</table>\n",
       "<p>1309 rows × 15 columns</p>\n",
       "</div>"
      ],
      "text/plain": [
       "        id  'pclass'  'survived'  \\\n",
       "0        1         1           1   \n",
       "1        2         1           1   \n",
       "2        3         1           0   \n",
       "3        4         1           0   \n",
       "4        5         1           0   \n",
       "...    ...       ...         ...   \n",
       "1304  1305         3           0   \n",
       "1305  1306         3           0   \n",
       "1306  1307         3           0   \n",
       "1307  1308         3           0   \n",
       "1308  1309         3           0   \n",
       "\n",
       "                                              'name'   'sex'   'age'  'sibsp'  \\\n",
       "0                       Allen,Miss. Elisabeth Walton  female      29        0   \n",
       "1                      Allison,Master. Hudson Trevor    male  0.9167        1   \n",
       "2                        Allison,Miss. Helen Loraine  female       2        1   \n",
       "3                Allison,Mr. Hudson Joshua Creighton    male      30        1   \n",
       "4     Allison,Mrs. Hudson J C (Bessie Waldo Daniels)  female      25        1   \n",
       "...                                              ...     ...     ...      ...   \n",
       "1304                             Zabour,Miss. Hileni  female    14.5        1   \n",
       "1305                            Zabour,Miss. Thamine  female       ?        1   \n",
       "1306                        Zakarian,Mr. Mapriededer    male    26.5        0   \n",
       "1307                              Zakarian,Mr. Ortin    male      27        0   \n",
       "1308                               Zimmerman,Mr. Leo    male      29        0   \n",
       "\n",
       "      'parch' 'ticket'    'fare'  'cabin' 'embarked' 'boat' 'body'  \\\n",
       "0           0    24160  211.3375       B5          S      2      ?   \n",
       "1           2   113781    151.55  C22 C26          S     11      ?   \n",
       "2           2   113781    151.55  C22 C26          S      ?      ?   \n",
       "3           2   113781    151.55  C22 C26          S      ?    135   \n",
       "4           2   113781    151.55  C22 C26          S      ?      ?   \n",
       "...       ...      ...       ...      ...        ...    ...    ...   \n",
       "1304        0     2665   14.4542        ?          C      ?    328   \n",
       "1305        0     2665   14.4542        ?          C      ?      ?   \n",
       "1306        0     2656     7.225        ?          C      ?    304   \n",
       "1307        0     2670     7.225        ?          C      ?      ?   \n",
       "1308        0   315082     7.875        ?          S      ?      ?   \n",
       "\n",
       "                        'home.dest'  \n",
       "0                       St Louis,MO  \n",
       "1     Montreal,PQ / Chesterville,ON  \n",
       "2     Montreal,PQ / Chesterville,ON  \n",
       "3     Montreal,PQ / Chesterville,ON  \n",
       "4     Montreal,PQ / Chesterville,ON  \n",
       "...                             ...  \n",
       "1304                              ?  \n",
       "1305                              ?  \n",
       "1306                              ?  \n",
       "1307                              ?  \n",
       "1308                              ?  \n",
       "\n",
       "[1309 rows x 15 columns]"
      ]
     },
     "execution_count": 7,
     "metadata": {},
     "output_type": "execute_result"
    }
   ],
   "source": [
    "import pandas as pd\n",
    "import numpy as np\n",
    "data = pd.read_csv(\"./titanic3.csv\")\n",
    "\n",
    "\n",
    "data"
   ]
  },
  {
   "cell_type": "code",
   "execution_count": 8,
   "metadata": {
    "vscode": {
     "languageId": "shellscript"
    }
   },
   "outputs": [
    {
     "ename": "SyntaxError",
     "evalue": "invalid syntax (757830873.py, line 1)",
     "output_type": "error",
     "traceback": [
      "\u001b[0;36m  Input \u001b[0;32mIn [8]\u001b[0;36m\u001b[0m\n\u001b[0;31m    y as np\u001b[0m\n\u001b[0m      ^\u001b[0m\n\u001b[0;31mSyntaxError\u001b[0m\u001b[0;31m:\u001b[0m invalid syntax\n"
     ]
    }
   ],
   "source": [
    "y as np\n",
    "data = pd.read_csv(\"./titanic3.csv\")\n",
    "\n",
    "\n",
    "data"
   ]
  },
  {
   "cell_type": "markdown",
   "metadata": {},
   "source": [
    "> Now, run the cell using the Run cell icon or the Shift+Enter shortcut."
   ]
  },
  {
   "cell_type": "markdown",
   "metadata": {},
   "source": [
    "- view the data in the Pandas Data Viewer\n",
    "\n"
   ]
  },
  {
   "cell_type": "markdown",
   "metadata": {},
   "source": [
    "## Python Interactive window\n"
   ]
  },
  {
   "cell_type": "markdown",
   "metadata": {},
   "source": [
    "- You can use Python interactively in the VS Code \n",
    "\n",
    "- You can use the Python Interactive window "
   ]
  },
  {
   "cell_type": "markdown",
   "metadata": {},
   "source": [
    "### Connect to a remote Jupyter server#\n"
   ]
  },
  {
   "cell_type": "markdown",
   "metadata": {},
   "source": [
    "- You can offload intensive computation in a Jupyter notebook to other computers by connecting to a remote Jupyter server. \n",
    "\n",
    "- Once connected, code cells run on the remote server rather than the local computer.\n",
    "\n",
    "- Even Google colab: [\"How to Connect to VSCode to Colab\"](https://colab.research.google.com/github/JayThibs/jacques-blog/blob/master/_notebooks/2021-09-27-connect-to-colab-from-local-vscode.ipynb), [another one](https://www.freecodecamp.org/news/how-to-use-google-colab-with-vs-code/)"
   ]
  },
  {
   "cell_type": "markdown",
   "metadata": {},
   "source": [
    "### Downloading data from GitHub\n",
    " "
   ]
  },
  {
   "cell_type": "markdown",
   "metadata": {},
   "source": [
    "- Create Github Account\n",
    "\n",
    "- Setup Github Details\n",
    "\n",
    "- Download the data from Github\n",
    "  "
   ]
  }
 ],
 "metadata": {
  "kernelspec": {
   "display_name": "Python 3.9.12 ('datascience')",
   "language": "python",
   "name": "python3"
  },
  "language_info": {
   "codemirror_mode": {
    "name": "ipython",
    "version": 3
   },
   "file_extension": ".py",
   "mimetype": "text/x-python",
   "name": "python",
   "nbconvert_exporter": "python",
   "pygments_lexer": "ipython3",
   "version": "3.9.12"
  },
  "orig_nbformat": 4,
  "vscode": {
   "interpreter": {
    "hash": "d203a7fbe37afbb990fedfc21c321928443618f3d7b991e0237ff71906aa031f"
   }
  }
 },
 "nbformat": 4,
 "nbformat_minor": 2
}
