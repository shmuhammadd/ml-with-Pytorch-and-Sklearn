{
 "cells": [
  {
   "cell_type": "code",
   "execution_count": 1,
   "metadata": {},
   "outputs": [],
   "source": [
    "from utils.tick import tick"
   ]
  },
  {
   "cell_type": "markdown",
   "metadata": {},
   "source": [
    "### Exercise 1 \n",
    "Refer to `page 20` of the _book_ where a decision function is defined as:\n",
    "$$\n",
    "decisionFunction (z) = \\begin{cases}\n",
    "1, & if z  \\ge  0 \\\\\n",
    "0, & otherwise\n",
    "\\end{cases}\n",
    "$$\n",
    "\n",
    "Now, use Python to write a function `decisionFunction(z)` that takes a number `z` as an argument and returns `1` if  z greater than or equals to `1`,  or  `0`,  if  otherwise\n"
   ]
  },
  {
   "cell_type": "code",
   "execution_count": 2,
   "metadata": {},
   "outputs": [],
   "source": [
    "# write your code here\n",
    "def decisionFunction(z):\n",
    "    return 0 if z < 1 else 1\n",
    "   "
   ]
  },
  {
   "cell_type": "markdown",
   "metadata": {},
   "source": [
    "> Now run the cell below:"
   ]
  },
  {
   "cell_type": "code",
   "execution_count": 5,
   "metadata": {},
   "outputs": [
    {
     "data": {
      "text/html": [
       " <h3> <font color=\"green\"> ✓ Correct </font> </h3>"
      ],
      "text/plain": [
       "<IPython.core.display.HTML object>"
      ]
     },
     "metadata": {},
     "output_type": "display_data"
    }
   ],
   "source": [
    "with tick():\n",
    "    assert decisionFunction(5) == 1\n",
    "  "
   ]
  },
  {
   "cell_type": "markdown",
   "metadata": {},
   "source": [
    "Given certain input values, x, and a corresponding weight vector, w, where z is the so-called net input z = w1x1 + w2x2 + ... + wmxm:\n",
    "\n",
    "Write a function `net_input()` which takes `x` and `w` as parameters and return the `z` i.e. the net input.\n",
    "\n",
    "Use the net value, `z` returned by the call the `decisionFunction()` defined above. print your results."
   ]
  }
 ],
 "metadata": {
  "kernelspec": {
   "display_name": "Python 3.9.12",
   "language": "python",
   "name": "python3"
  },
  "language_info": {
   "codemirror_mode": {
    "name": "ipython",
    "version": 3
   },
   "file_extension": ".py",
   "mimetype": "text/x-python",
   "name": "python",
   "nbconvert_exporter": "python",
   "pygments_lexer": "ipython3",
   "version": "3.9.12"
  },
  "orig_nbformat": 4,
  "vscode": {
   "interpreter": {
    "hash": "d203a7fbe37afbb990fedfc21c321928443618f3d7b991e0237ff71906aa031f"
   }
  }
 },
 "nbformat": 4,
 "nbformat_minor": 2
}
